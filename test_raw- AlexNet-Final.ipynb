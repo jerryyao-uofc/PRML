{
 "cells": [
  {
   "cell_type": "markdown",
   "metadata": {},
   "source": [
    " "
   ]
  },
  {
   "cell_type": "markdown",
   "metadata": {},
   "source": [
    "# Task 2: \n",
    "\n",
    "# Data Preprocessing\n",
    "## Importing the data\n",
    "For task 2, we will only be taking the image data that is known to come from four categories of 1, 2, 5, and 13. And we will train and test among this subset of data. We will do the similar data preprocessing procedures. Like we did in the task 1 with data augementation of category 5 because it has signifcantly smaller sample size. And we will perform the normalization like before."
   ]
  },
  {
   "cell_type": "code",
   "execution_count": 1,
   "metadata": {},
   "outputs": [],
   "source": [
    "from util_copy import load_fabric_data, extract_label_grouping, extract_label_grouping, load_fabric_images\n",
    "import numpy as np\n",
    "from matplotlib import image"
   ]
  },
  {
   "cell_type": "markdown",
   "metadata": {},
   "source": [
    "Import the dataset by loading the images and label data. "
   ]
  },
  {
   "cell_type": "code",
   "execution_count": 2,
   "metadata": {},
   "outputs": [],
   "source": [
    "path = r\"C:/Users/Administrator/Desktop/PRML/Project/fabric_data/label_json/**/**.json\"\n",
    "\n",
    "fids, fdata = load_fabric_data(path)\n",
    "ftype1, ftype2 = extract_label_grouping(fdata)\n",
    "\n",
    "path = r\"C:/Users/Administrator/Desktop/PRML/Project/fabric_data/temp/\"\n",
    "labels, imgs = load_fabric_images(path, fids, fdata, ftype1)\n",
    "\n",
    "import cv2\n",
    "imgs = [cv2.resize(img,(200, 200)) for img in imgs]"
   ]
  },
  {
   "cell_type": "markdown",
   "metadata": {},
   "source": [
    "Now we will only take the data set of the four categoires/ "
   ]
  },
  {
   "cell_type": "code",
   "execution_count": 3,
   "metadata": {},
   "outputs": [],
   "source": [
    "# another way of selecting categories\n",
    "from numpy import array\n",
    "\n",
    "# find the indcies of the catgory 1, 2, 5, 13\n",
    "def find_indices_four_cat(listOfLabel):\n",
    "    res = []\n",
    "    i = 0 \n",
    "    for i in range(0,len(listOfLabel)):\n",
    "        if (listOfLabel[i] == 1) or (listOfLabel[i]== 2) or (listOfLabel[i] == 5) or (listOfLabel[i] == 13): \n",
    "            res.append(i)\n",
    "    return res\n",
    "\n",
    "label_four_cat_indices = find_indices_four_cat(labels)\n",
    "\n",
    "# select the fours category out of the sample \n",
    "labels_four_cat = array(labels)[label_four_cat_indices]\n",
    "samples_four_cat = array(imgs)[label_four_cat_indices]"
   ]
  },
  {
   "cell_type": "code",
   "execution_count": null,
   "metadata": {},
   "outputs": [],
   "source": []
  },
  {
   "cell_type": "markdown",
   "metadata": {},
   "source": [
    "## Splitting the data"
   ]
  },
  {
   "cell_type": "markdown",
   "metadata": {},
   "source": [
    "We will perform two splitting in the same way we did in task 1. Here is the first split "
   ]
  },
  {
   "cell_type": "code",
   "execution_count": 4,
   "metadata": {},
   "outputs": [],
   "source": [
    "from sklearn.model_selection import train_test_split\n",
    "train_images, test_images, train_labels, test_labels = train_test_split(samples_four_cat, labels_four_cat, test_size=0.2, random_state=1)"
   ]
  },
  {
   "cell_type": "markdown",
   "metadata": {},
   "source": [
    "Then before we further spliting the training data into training data and validation data. We want to check the frequency distributions of all the labels "
   ]
  },
  {
   "cell_type": "code",
   "execution_count": 5,
   "metadata": {},
   "outputs": [
    {
     "data": {
      "image/png": "[encoded data removed]",
      "text/plain": [
       "<Figure size 432x288 with 1 Axes>"
      ]
     },
     "metadata": {
      "needs_background": "light"
     },
     "output_type": "display_data"
    }
   ],
   "source": [
    "import pandas as pd\n",
    "import matplotlib.pyplot as plt\n",
    "\n",
    "# output the frequency of the original training data \n",
    "df = pd.DataFrame({'freq': labels_four_cat})\n",
    "df.groupby('freq', as_index=False).size().plot(kind='bar')\n",
    "plt.show()"
   ]
  },
  {
   "cell_type": "markdown",
   "metadata": {},
   "source": [
    "We see category 5 has significant fewer amount of frequency distribution. We decide to generate some \"fake\" training data for category five.\n",
    "\n",
    "## Data Augementation \n"
   ]
  },
  {
   "cell_type": "code",
   "execution_count": 6,
   "metadata": {},
   "outputs": [
    {
     "name": "stdout",
     "output_type": "stream",
     "text": [
      "13\n"
     ]
    }
   ],
   "source": [
    "# subset all the 5s \n",
    "def find_indices_5(listOfLabel):\n",
    "    res = []\n",
    "    i = 0 \n",
    "    for i in range(0,len(listOfLabel)):\n",
    "        if (listOfLabel[i] == 5): \n",
    "            res.append(i)\n",
    "    return res\n",
    "\n",
    "label_five = find_indices_5(train_labels)\n",
    "print(len(label_five))\n",
    "\n",
    "train_is_five = array(train_images)[label_five]\n",
    "\n",
    "# Data augementation \n",
    "# generate more category FIVE\n",
    "\n",
    "def rotate_a_bunch(a_list_of_image):\n",
    "    res = []\n",
    "    for i in range(0, len(a_list_of_image)):\n",
    "        rotate_once1 = np.rot90(a_list_of_image[i], k=1, axes=(0, 1))\n",
    "        a = rotate_once1[::-1]\n",
    "        rotate_twice1 = np.rot90(rotate_once1, k=1, axes=(0, 1))\n",
    "        b = rotate_twice1[::-1]\n",
    "        rotate_third1 = np.rot90(rotate_twice1, k=1, axes=(0, 1))\n",
    "        c = rotate_third1[::-1]\n",
    "        rotate_once2 = np.rot90(a_list_of_image[i], k=1, axes=(1, 0))\n",
    "        d= rotate_once2[::-1]\n",
    "        rotate_twice2 = np.rot90(rotate_once2, k=1, axes=(1, 0))\n",
    "        e = rotate_twice2[::-1]\n",
    "        rotate_third2 = np.rot90(rotate_twice2, k=1, axes=(1, 0))\n",
    "        f = rotate_third2[::-1]\n",
    "        \n",
    "        new_gen = [rotate_once1,rotate_once2, rotate_twice1,rotate_twice2,rotate_third1, rotate_third2 ]\n",
    "        new_gen2 = [a,b,c,d,e,f]\n",
    "        res= new_gen + res + new_gen2\n",
    "    return np.array(res) \n",
    "\n",
    "# the generated new image data\n",
    "generated_5 = rotate_a_bunch(train_is_five)\n",
    "\n",
    "generated_5_label = [5] * len(generated_5)\n",
    "\n",
    "# create the new training data set (note test data set is already seperated out before hand)\n",
    "train_images = np.concatenate((train_images , generated_5)) \n",
    "train_labels =  np.concatenate((train_labels , generated_5_label))"
   ]
  },
  {
   "cell_type": "markdown",
   "metadata": {},
   "source": [
    "Now we concatenate all the training images together with the new image data generated with the order preserved. We can take a look at the frequency distribution of the new training data set (with validation set included). "
   ]
  },
  {
   "cell_type": "code",
   "execution_count": 7,
   "metadata": {},
   "outputs": [
    {
     "data": {
      "image/png": "[encoded data removed]",
      "text/plain": [
       "<Figure size 432x288 with 1 Axes>"
      ]
     },
     "metadata": {
      "needs_background": "light"
     },
     "output_type": "display_data"
    }
   ],
   "source": [
    "# output the new frequency \n",
    "df = pd.DataFrame({'freq': train_labels})\n",
    "df.groupby('freq', as_index=False).size().plot(kind='bar')\n",
    "plt.show()"
   ]
  },
  {
   "cell_type": "markdown",
   "metadata": {},
   "source": [
    "So the imbalance of the training sample seems to be eased up a little, although group 5 still has significantly fewer training size than others. \n",
    "\n",
    "## Splitting the training and validation set \n",
    "We will now split the new training set in to actual training set and the validation set. The validation set is used to fine tune our model along the way. "
   ]
  },
  {
   "cell_type": "code",
   "execution_count": 8,
   "metadata": {},
   "outputs": [],
   "source": [
    "train1_images , val_images, train1_labels , val_labels =  train_test_split(train_images, train_labels, test_size=0.2, random_state=1)"
   ]
  },
  {
   "cell_type": "markdown",
   "metadata": {},
   "source": [
    "## Normalize the image data\n",
    "We will normalize the data by dividing 255. "
   ]
  },
  {
   "cell_type": "code",
   "execution_count": 9,
   "metadata": {},
   "outputs": [],
   "source": [
    "train1_images = train1_images / 255.0 \n",
    "val_images    = val_images / 255.0 \n"
   ]
  },
  {
   "cell_type": "code",
   "execution_count": 10,
   "metadata": {},
   "outputs": [],
   "source": [
    "test_images = np.array(test_images)/ 255.0"
   ]
  },
  {
   "cell_type": "markdown",
   "metadata": {},
   "source": [
    "So now we can take a look at the size of each splitted data set. "
   ]
  },
  {
   "cell_type": "code",
   "execution_count": 11,
   "metadata": {},
   "outputs": [
    {
     "name": "stdout",
     "output_type": "stream",
     "text": [
      "#Training data: 843\n",
      " #Validation data: 211\n",
      " #Testing data: 225\n",
      "#Class: 4\n"
     ]
    }
   ],
   "source": [
    "print(\"#Training data: {}\\n #Validation data: {}\\n #Testing data: {}\\n#Class: {}\".format(len(train1_images), len(val_images), len(test_images), len(set(train_labels))))"
   ]
  },
  {
   "cell_type": "markdown",
   "metadata": {},
   "source": [
    "## Change the category number\n",
    "There is one extra step before moving into our CNN algoirthm is that we need to renameing the category. Because now the category number are 1,2,5,12 which can consue the integer representation of catgeory. So we are going to each each category to 0, 1, 2, 3 respectively. "
   ]
  },
  {
   "cell_type": "code",
   "execution_count": 12,
   "metadata": {},
   "outputs": [],
   "source": [
    "# rename 1,2,5,12 category number to 0 1 2 3 \n",
    "def change_cat_number(list_1):\n",
    "    for i in range(0,len(list_1)):\n",
    "        if list_1[i] == 1:\n",
    "            list_1[i] = 0\n",
    "        elif list_1[i] == 2:\n",
    "            list_1[i] = 1\n",
    "        elif list_1[i] == 5:\n",
    "            list_1[i] = 2\n",
    "        else: \n",
    "            list_1[i] = 3\n",
    "    return list_1\n",
    "\n",
    "train1_labels = change_cat_number(train1_labels)\n",
    "val_labels= change_cat_number(val_labels)\n",
    "test_labels = change_cat_number(test_labels)"
   ]
  },
  {
   "cell_type": "markdown",
   "metadata": {},
   "source": [
    "# Implementation "
   ]
  },
  {
   "cell_type": "markdown",
   "metadata": {},
   "source": [
    "We will start building our Convolutional Neurel Network model and more specifically an AlexNet "
   ]
  },
  {
   "cell_type": "code",
   "execution_count": 13,
   "metadata": {},
   "outputs": [],
   "source": [
    "# Load the TensorBoard notebook extension\n",
    "%load_ext tensorboard\n",
    "\n",
    "import datetime\n",
    "import tensorflow as tf\n",
    "from tensorflow.keras import Model\n",
    "from tensorflow.keras.models import Sequential\n",
    "from tensorflow.keras.utils import to_categorical\n",
    "from tensorflow.keras.losses import categorical_crossentropy\n",
    "from tensorflow.keras.preprocessing.image import ImageDataGenerator\n",
    "from tensorflow.keras.layers import Dense, Flatten, Conv2D, MaxPooling2D, Dropout"
   ]
  },
  {
   "cell_type": "markdown",
   "metadata": {},
   "source": [
    "We will be using the same Alex Net Model from the previous task. "
   ]
  },
  {
   "cell_type": "code",
   "execution_count": 14,
   "metadata": {},
   "outputs": [],
   "source": [
    "num_classes = len(set(train1_labels))\n",
    "\n",
    "# AlexNet model\n",
    "class AlexNet(Sequential):\n",
    "    def __init__(self, input_shape, num_classes):\n",
    "        super().__init__()\n",
    "\n",
    "        self.add(Conv2D(96, kernel_size=(11,11), strides= 4,\n",
    "                        padding= 'valid', activation= 'relu',\n",
    "                        input_shape= input_shape,\n",
    "                        kernel_initializer= 'he_normal'))\n",
    "        self.add(MaxPooling2D(pool_size=(3,3), strides= (2,2),\n",
    "                              padding= 'valid', data_format= None))\n",
    "\n",
    "        self.add(Conv2D(256, kernel_size=(5,5), strides= 1,\n",
    "                        padding= 'same', activation= 'relu',\n",
    "                        kernel_initializer= 'he_normal'))\n",
    "        self.add(MaxPooling2D(pool_size=(3,3), strides= (2,2),\n",
    "                              padding= 'valid', data_format= None)) \n",
    "\n",
    "        self.add(Conv2D(384, kernel_size=(3,3), strides= 1,\n",
    "                        padding= 'same', activation= 'relu',\n",
    "                        kernel_initializer= 'he_normal'))\n",
    "\n",
    "        self.add(Conv2D(384, kernel_size=(3,3), strides= 1,\n",
    "                        padding= 'same', activation= 'relu',\n",
    "                        kernel_initializer= 'he_normal'))\n",
    "\n",
    "        self.add(Conv2D(256, kernel_size=(3,3), strides= 1,\n",
    "                        padding= 'same', activation= 'relu',\n",
    "                        kernel_initializer= 'he_normal'))\n",
    "\n",
    "        self.add(MaxPooling2D(pool_size=(3,3), strides= (2,2),\n",
    "                              padding= 'valid', data_format= None))\n",
    "   \n",
    "        self.add(Flatten())\n",
    "        self.add(Dense(4096, activation= 'relu'))\n",
    "        self.add(Dropout(0.1))\n",
    "        self.add(Dense(4096, activation= 'relu'))\n",
    "        self.add(Dropout(0.1))\n",
    "        self.add(Dense(1000, activation= 'relu'))\n",
    "        self.add(Dropout(0.1))\n",
    "        self.add(Dense(num_classes, activation= 'softmax'))\n",
    "\n",
    "        self.compile(optimizer= tf.keras.optimizers.Adam(0.0001),\n",
    "                    loss=tf.keras.losses.SparseCategoricalCrossentropy(from_logits=False),\n",
    "                    metrics=['accuracy'])"
   ]
  },
  {
   "cell_type": "markdown",
   "metadata": {},
   "source": [
    "Now we will compile our model and take a look at the summary of the layers information "
   ]
  },
  {
   "cell_type": "code",
   "execution_count": 15,
   "metadata": {},
   "outputs": [
    {
     "name": "stdout",
     "output_type": "stream",
     "text": [
      "Model: \"alex_net\"\n",
      "_________________________________________________________________\n",
      "Layer (type)                 Output Shape              Param #   \n",
      "=================================================================\n",
      "conv2d (Conv2D)              (None, 48, 48, 96)        69792     \n",
      "_________________________________________________________________\n",
      "max_pooling2d (MaxPooling2D) (None, 23, 23, 96)        0         \n",
      "_________________________________________________________________\n",
      "conv2d_1 (Conv2D)            (None, 23, 23, 256)       614656    \n",
      "_________________________________________________________________\n",
      "max_pooling2d_1 (MaxPooling2 (None, 11, 11, 256)       0         \n",
      "_________________________________________________________________\n",
      "conv2d_2 (Conv2D)            (None, 11, 11, 384)       885120    \n",
      "_________________________________________________________________\n",
      "conv2d_3 (Conv2D)            (None, 11, 11, 384)       1327488   \n",
      "_________________________________________________________________\n",
      "conv2d_4 (Conv2D)            (None, 11, 11, 256)       884992    \n",
      "_________________________________________________________________\n",
      "max_pooling2d_2 (MaxPooling2 (None, 5, 5, 256)         0         \n",
      "_________________________________________________________________\n",
      "flatten (Flatten)            (None, 6400)              0         \n",
      "_________________________________________________________________\n",
      "dense (Dense)                (None, 4096)              26218496  \n",
      "_________________________________________________________________\n",
      "dropout (Dropout)            (None, 4096)              0         \n",
      "_________________________________________________________________\n",
      "dense_1 (Dense)              (None, 4096)              16781312  \n",
      "_________________________________________________________________\n",
      "dropout_1 (Dropout)          (None, 4096)              0         \n",
      "_________________________________________________________________\n",
      "dense_2 (Dense)              (None, 1000)              4097000   \n",
      "_________________________________________________________________\n",
      "dropout_2 (Dropout)          (None, 1000)              0         \n",
      "_________________________________________________________________\n",
      "dense_3 (Dense)              (None, 4)                 4004      \n",
      "=================================================================\n",
      "Total params: 50,882,860\n",
      "Trainable params: 50,882,860\n",
      "Non-trainable params: 0\n",
      "_________________________________________________________________\n"
     ]
    }
   ],
   "source": [
    "model = AlexNet((200, 200, 6), num_classes)\n",
    "model.summary()"
   ]
  },
  {
   "cell_type": "code",
   "execution_count": 16,
   "metadata": {},
   "outputs": [
    {
     "name": "stdout",
     "output_type": "stream",
     "text": [
      "Epoch 1/10\n",
      "27/27 [==============================] - 75s 3s/step - loss: 1.5577 - accuracy: 0.3416 - val_loss: 1.2298 - val_accuracy: 0.4408\n",
      "Epoch 2/10\n",
      "27/27 [==============================] - 71s 3s/step - loss: 1.1598 - accuracy: 0.4804 - val_loss: 1.1069 - val_accuracy: 0.4834\n",
      "Epoch 3/10\n",
      "27/27 [==============================] - 73s 3s/step - loss: 1.0378 - accuracy: 0.5326 - val_loss: 1.0820 - val_accuracy: 0.5213\n",
      "Epoch 4/10\n",
      "27/27 [==============================] - 71s 3s/step - loss: 0.9101 - accuracy: 0.6287 - val_loss: 1.0659 - val_accuracy: 0.5640\n",
      "Epoch 5/10\n",
      "27/27 [==============================] - 70s 3s/step - loss: 0.7406 - accuracy: 0.6975 - val_loss: 1.1305 - val_accuracy: 0.5640\n",
      "Epoch 6/10\n",
      "27/27 [==============================] - 70s 3s/step - loss: 0.6321 - accuracy: 0.7592 - val_loss: 0.8912 - val_accuracy: 0.6825\n",
      "Epoch 7/10\n",
      "27/27 [==============================] - 71s 3s/step - loss: 0.4245 - accuracy: 0.8363 - val_loss: 0.9104 - val_accuracy: 0.7299\n",
      "Epoch 8/10\n",
      "27/27 [==============================] - 71s 3s/step - loss: 0.3513 - accuracy: 0.8707 - val_loss: 0.9171 - val_accuracy: 0.6872\n",
      "Epoch 9/10\n",
      "27/27 [==============================] - 70s 3s/step - loss: 0.2830 - accuracy: 0.8980 - val_loss: 0.7912 - val_accuracy: 0.7441\n",
      "Epoch 10/10\n",
      "27/27 [==============================] - 70s 3s/step - loss: 0.1687 - accuracy: 0.9454 - val_loss: 0.7105 - val_accuracy: 0.8057\n"
     ]
    }
   ],
   "source": [
    "# start training\n",
    "history = model.fit(train1_images, train1_labels, epochs=10, \n",
    "                    validation_data=(val_images, val_labels))"
   ]
  },
  {
   "cell_type": "markdown",
   "metadata": {},
   "source": [
    "# Results and Analysis"
   ]
  },
  {
   "cell_type": "markdown",
   "metadata": {},
   "source": [
    "We can graph the performance of the training over the 10 epochs below:"
   ]
  },
  {
   "cell_type": "code",
   "execution_count": 17,
   "metadata": {},
   "outputs": [
    {
     "name": "stdout",
     "output_type": "stream",
     "text": [
      "7/7 - 4s - loss: 0.7105 - accuracy: 0.8057\n"
     ]
    },
    {
     "data": {
      "image/png": "[encoded data removed]",
      "text/plain": [
       "<Figure size 432x288 with 1 Axes>"
      ]
     },
     "metadata": {
      "needs_background": "light"
     },
     "output_type": "display_data"
    }
   ],
   "source": [
    "plt.plot(history.history['accuracy'], label='accuracy')\n",
    "plt.plot(history.history['val_accuracy'], label = 'val_accuracy')\n",
    "plt.xlabel('Epoch')\n",
    "plt.ylabel('Accuracy')\n",
    "plt.ylim([0.5, 1])\n",
    "plt.legend(loc='lower right')\n",
    "\n",
    "test_loss, test_acc = model.evaluate(val_images,  val_labels, verbose=2)"
   ]
  },
  {
   "cell_type": "markdown",
   "metadata": {},
   "source": [
    "We see that the accuracy and validated accuracy doesn't seem to converge. \n",
    "\n",
    "Then we can make the predictionss with the following: "
   ]
  },
  {
   "cell_type": "code",
   "execution_count": 18,
   "metadata": {},
   "outputs": [
    {
     "name": "stdout",
     "output_type": "stream",
     "text": [
      "WARNING:tensorflow:From <ipython-input-18-0b36f4dbf883>:2: Sequential.predict_classes (from tensorflow.python.keras.engine.sequential) is deprecated and will be removed after 2021-01-01.\n",
      "Instructions for updating:\n",
      "Please use instead:* `np.argmax(model.predict(x), axis=-1)`,   if your model does multi-class classification   (e.g. if it uses a `softmax` last-layer activation).* `(model.predict(x) > 0.5).astype(\"int32\")`,   if your model does binary classification   (e.g. if it uses a `sigmoid` last-layer activation).\n"
     ]
    }
   ],
   "source": [
    "# make prediction\n",
    "predicted_label = model.predict_classes(test_images)"
   ]
  },
  {
   "cell_type": "markdown",
   "metadata": {},
   "source": [
    "Then we can draw the confusion matrix. The following section of code is origianlly from: http://scikit-learn.org/stable/auto_examples/model_selection/plot_confusion_matrix.html"
   ]
  },
  {
   "cell_type": "code",
   "execution_count": 19,
   "metadata": {},
   "outputs": [],
   "source": [
    "def plot_confusion_matrix(cm,\n",
    "                          target_names,\n",
    "                          title='Confusion matrix',\n",
    "                          cmap=None,\n",
    "                          normalize=True):\n",
    "   \n",
    "    import matplotlib.pyplot as plt\n",
    "    import numpy as np\n",
    "    import itertools\n",
    "\n",
    "    accuracy = np.trace(cm) / float(np.sum(cm))\n",
    "    misclass = 1 - accuracy\n",
    "\n",
    "    if cmap is None:\n",
    "        cmap = plt.get_cmap('Blues')\n",
    "\n",
    "    plt.figure(figsize=(8, 6))\n",
    "    plt.imshow(cm, interpolation='nearest', cmap=cmap)\n",
    "    plt.title(title)\n",
    "    plt.colorbar()\n",
    "\n",
    "    if target_names is not None:\n",
    "        tick_marks = np.arange(len(target_names))\n",
    "        plt.xticks(tick_marks, target_names, rotation=45)\n",
    "        plt.yticks(tick_marks, target_names)\n",
    "\n",
    "    if normalize:\n",
    "        cm = cm.astype('float') / cm.sum(axis=1)[:, np.newaxis]\n",
    "\n",
    "\n",
    "    thresh = cm.max() / 1.5 if normalize else cm.max() / 2\n",
    "    for i, j in itertools.product(range(cm.shape[0]), range(cm.shape[1])):\n",
    "        if normalize:\n",
    "            plt.text(j, i, \"{:0.4f}\".format(cm[i, j]),\n",
    "                     horizontalalignment=\"center\",\n",
    "                     color=\"black\" if cm[i, j] > thresh else \"black\")\n",
    "        else:\n",
    "            plt.text(j, i, \"{:,}\".format(cm[i, j]),\n",
    "                     horizontalalignment=\"center\",\n",
    "                     color=\"white\" if cm[i, j] > thresh else \"black\")\n",
    "\n",
    "\n",
    "    plt.tight_layout()\n",
    "    plt.ylabel('True label')\n",
    "    plt.xlabel('Predicted label\\naccuracy={:0.4f}; misclass={:0.4f}'.format(accuracy, misclass))\n",
    "    plt.show()"
   ]
  },
  {
   "cell_type": "code",
   "execution_count": 22,
   "metadata": {},
   "outputs": [
    {
     "data": {
      "image/png": "[encoded data removed]",
      "text/plain": [
       "<Figure size 576x432 with 2 Axes>"
      ]
     },
     "metadata": {
      "needs_background": "light"
     },
     "output_type": "display_data"
    }
   ],
   "source": [
    "from sklearn.metrics import classification_report, confusion_matrix\n",
    "\n",
    "plot_confusion_matrix(cm           = confusion_matrix(test_labels, predicted_label), \n",
    "                      normalize    = False,\n",
    "                      target_names = [0,1,2,3],\n",
    "                      title        = \"Confusion Matrix\")"
   ]
  },
  {
   "cell_type": "code",
   "execution_count": 23,
   "metadata": {},
   "outputs": [
    {
     "name": "stdout",
     "output_type": "stream",
     "text": [
      "              precision    recall  f1-score   support\n",
      "\n",
      "           0       0.93      0.77      0.84        74\n",
      "           1       0.71      0.86      0.77        64\n",
      "           2       0.62      1.00      0.76         8\n",
      "           3       0.85      0.78      0.82        79\n",
      "\n",
      "    accuracy                           0.81       225\n",
      "   macro avg       0.78      0.85      0.80       225\n",
      "weighted avg       0.83      0.81      0.81       225\n",
      "\n"
     ]
    }
   ],
   "source": [
    "print(classification_report(test_labels, predicted_label))"
   ]
  },
  {
   "cell_type": "markdown",
   "metadata": {},
   "source": []
  },
  {
   "cell_type": "markdown",
   "metadata": {},
   "source": [
    "##### Reason why accuracy doesn't further increase\n",
    "1. imbalance of trianing set \n",
    "2. learning rate too large "
   ]
  },
  {
   "cell_type": "code",
   "execution_count": null,
   "metadata": {},
   "outputs": [],
   "source": []
  },
  {
   "cell_type": "code",
   "execution_count": null,
   "metadata": {},
   "outputs": [],
   "source": []
  }
 ],
 "metadata": {
  "kernelspec": {
   "display_name": "Python 3",
   "language": "python",
   "name": "python3"
  },
  "language_info": {
   "codemirror_mode": {
    "name": "ipython",
    "version": 3
   },
   "file_extension": ".py",
   "mimetype": "text/x-python",
   "name": "python",
   "nbconvert_exporter": "python",
   "pygments_lexer": "ipython3",
   "version": "3.8.3"
  }
 },
 "nbformat": 4,
 "nbformat_minor": 4
}
