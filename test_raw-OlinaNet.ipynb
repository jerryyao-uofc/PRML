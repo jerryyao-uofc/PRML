{
 "cells": [
  {
   "cell_type": "markdown",
   "metadata": {},
   "source": [
    "##### Import data"
   ]
  },
  {
   "cell_type": "code",
   "execution_count": 1,
   "metadata": {},
   "outputs": [],
   "source": [
    "from util_copy import load_fabric_data, extract_label_grouping, extract_label_grouping, load_fabric_images\n",
    "import numpy as np\n",
    "from matplotlib import image"
   ]
  },
  {
   "cell_type": "code",
   "execution_count": 2,
   "metadata": {},
   "outputs": [],
   "source": [
    "\n",
    "path = r\"C:/Users/Administrator/Desktop/PRML/Project/fabric_data/label_json/**/**.json\"\n",
    "\n",
    "fids, fdata = load_fabric_data(path)\n",
    "ftype1, ftype2 = extract_label_grouping(fdata)\n"
   ]
  },
  {
   "cell_type": "code",
   "execution_count": 3,
   "metadata": {},
   "outputs": [
    {
     "name": "stdout",
     "output_type": "stream",
     "text": [
      "C:/Users/Administrator/Desktop/PRML/Project/fabric_data/temp/**/**.jpg\n"
     ]
    }
   ],
   "source": [
    "path = r\"C:/Users/Administrator/Desktop/PRML/Project/fabric_data/temp/\"\n",
    "labels, imgs = load_fabric_images(path, fids, fdata, ftype2)\n"
   ]
  },
  {
   "cell_type": "code",
   "execution_count": null,
   "metadata": {},
   "outputs": [],
   "source": [
    "print(fdata)"
   ]
  },
  {
   "cell_type": "code",
   "execution_count": 4,
   "metadata": {},
   "outputs": [
    {
     "name": "stdout",
     "output_type": "stream",
     "text": [
      "3371\n",
      "[[[130 130 128 155 147 171]\n",
      "  [139 137 138 151 150 168]\n",
      "  [147 145 148 146 154 167]\n",
      "  ...\n",
      "  [ 57  46  24  92  87  29]\n",
      "  [ 73  51  28  83  64  34]\n",
      "  [124  89  69  76  47  51]]\n",
      "\n",
      " [[139 141 140 162 153 174]\n",
      "  [143 144 146 157 155 168]\n",
      "  [148 148 150 151 155 166]\n",
      "  ...\n",
      "  [ 69  61  38 121 124  69]\n",
      "  [ 58  41  15 113 100  56]\n",
      "  [ 69  39  15  88  63  33]]\n",
      "\n",
      " [[143 147 150 160 149 166]\n",
      "  [145 149 152 156 153 162]\n",
      "  [150 151 156 153 156 161]\n",
      "  ...\n",
      "  [102 100  75 153 160 116]\n",
      "  [ 90  79  49 140 133  79]\n",
      "  [ 75  55  22 126 106  47]]\n",
      "\n",
      " ...\n",
      "\n",
      " [[ 56  19  13  76  21  24]\n",
      "  [ 55  16  11  77  28  31]\n",
      "  [ 57  18  13  70  31  32]\n",
      "  ...\n",
      "  [208 213 219 210 213 206]\n",
      "  [208 218 220 222 223 228]\n",
      "  [200 210 211 216 213 234]]\n",
      "\n",
      " [[ 74  35  28 103  31  34]\n",
      "  [ 69  30  23 103  37  39]\n",
      "  [ 72  31  25  95  39  40]\n",
      "  ...\n",
      "  [191 200 209 212 212 212]\n",
      "  [220 231 237 209 209 221]\n",
      "  [196 210 213 213 210 237]]\n",
      "\n",
      " [[ 87  49  40 122  36  37]\n",
      "  [ 82  42  34 123  41  43]\n",
      "  [ 85  45  37 115  43  46]\n",
      "  ...\n",
      "  [185 193 204 214 212 223]\n",
      "  [195 208 216 215 212 233]\n",
      "  [193 208 215 217 216 248]]]\n"
     ]
    }
   ],
   "source": [
    "print(len(labels))\n",
    "print(imgs[0])"
   ]
  },
  {
   "cell_type": "code",
   "execution_count": 5,
   "metadata": {},
   "outputs": [
    {
     "name": "stdout",
     "output_type": "stream",
     "text": [
      "Number of samples: 3371\n"
     ]
    }
   ],
   "source": [
    "n_samples = len(imgs)\n",
    "print(\"Number of samples:\", n_samples)"
   ]
  },
  {
   "cell_type": "code",
   "execution_count": 6,
   "metadata": {},
   "outputs": [
    {
     "name": "stdout",
     "output_type": "stream",
     "text": [
      "(400, 400, 6)\n"
     ]
    }
   ],
   "source": [
    "print(imgs[1230].shape)"
   ]
  },
  {
   "cell_type": "markdown",
   "metadata": {},
   "source": [
    "##### Padding\n",
    "- https://blog.csdn.net/wuzqChom/article/details/74785643\n",
    "- https://stackoverflow.com/questions/47697622/cnn-image-resizing-vs-padding-keeping-aspect-ratio-or-not/49882055#49882055\n",
    "- https://stackoverflow.com/questions/43391205/add-padding-to-images-to-get-them-into-the-same-shape"
   ]
  },
  {
   "cell_type": "code",
   "execution_count": 7,
   "metadata": {},
   "outputs": [],
   "source": [
    "import cv2"
   ]
  },
  {
   "cell_type": "code",
   "execution_count": 8,
   "metadata": {},
   "outputs": [],
   "source": [
    "imgs = [cv2.resize(img,(200, 200)) for img in imgs]"
   ]
  },
  {
   "cell_type": "code",
   "execution_count": null,
   "metadata": {},
   "outputs": [],
   "source": []
  },
  {
   "cell_type": "markdown",
   "metadata": {},
   "source": [
    "##### Split data"
   ]
  },
  {
   "cell_type": "code",
   "execution_count": 9,
   "metadata": {},
   "outputs": [],
   "source": [
    "from sklearn.model_selection import train_test_split"
   ]
  },
  {
   "cell_type": "code",
   "execution_count": 10,
   "metadata": {},
   "outputs": [],
   "source": [
    "train_images, test_images, train_labels, test_labels = train_test_split(imgs, labels, test_size=0.3, random_state=1)"
   ]
  },
  {
   "cell_type": "code",
   "execution_count": 11,
   "metadata": {},
   "outputs": [
    {
     "ename": "AttributeError",
     "evalue": "'list' object has no attribute 'type'",
     "output_type": "error",
     "traceback": [
      "\u001b[1;31m---------------------------------------------------------------------------\u001b[0m",
      "\u001b[1;31mAttributeError\u001b[0m                            Traceback (most recent call last)",
      "\u001b[1;32m<ipython-input-11-e5205155edef>\u001b[0m in \u001b[0;36m<module>\u001b[1;34m\u001b[0m\n\u001b[1;32m----> 1\u001b[1;33m \u001b[0mprint\u001b[0m\u001b[1;33m(\u001b[0m\u001b[0mtrain_images\u001b[0m\u001b[1;33m.\u001b[0m\u001b[0mtype\u001b[0m\u001b[1;33m)\u001b[0m\u001b[1;33m\u001b[0m\u001b[1;33m\u001b[0m\u001b[0m\n\u001b[0m",
      "\u001b[1;31mAttributeError\u001b[0m: 'list' object has no attribute 'type'"
     ]
    }
   ],
   "source": [
    "print(train_images.type)"
   ]
  },
  {
   "cell_type": "code",
   "execution_count": 12,
   "metadata": {},
   "outputs": [
    {
     "name": "stdout",
     "output_type": "stream",
     "text": [
      "#Training data: 2359\n",
      "#Testing data: 1012\n",
      "#Class: 9\n"
     ]
    }
   ],
   "source": [
    "print(\"#Training data: {}\\n#Testing data: {}\\n#Class: {}\".format(len(train_images), len(test_images), len(set(train_labels))))"
   ]
  },
  {
   "cell_type": "markdown",
   "metadata": {},
   "source": [
    "##### Normalize data"
   ]
  },
  {
   "cell_type": "code",
   "execution_count": 13,
   "metadata": {},
   "outputs": [],
   "source": [
    "train_images, test_images, train_labels, test_labels = np.array(train_images), np.array(test_images), np.array(train_labels), np.array(test_labels)\n",
    "train_images, test_images = train_images / 255.0, test_images / 255.0"
   ]
  },
  {
   "cell_type": "code",
   "execution_count": 14,
   "metadata": {},
   "outputs": [
    {
     "data": {
      "text/plain": [
       "(2359, 200, 200, 6)"
      ]
     },
     "execution_count": 14,
     "metadata": {},
     "output_type": "execute_result"
    }
   ],
   "source": [
    "train_images.shape"
   ]
  },
  {
   "cell_type": "markdown",
   "metadata": {},
   "source": [
    "##### Generate fake data"
   ]
  },
  {
   "cell_type": "code",
   "execution_count": null,
   "metadata": {},
   "outputs": [],
   "source": []
  },
  {
   "cell_type": "markdown",
   "metadata": {},
   "source": [
    "##### Create model\n",
    "- https://www.tensorflow.org/tutorials/images/classification"
   ]
  },
  {
   "cell_type": "code",
   "execution_count": 15,
   "metadata": {},
   "outputs": [],
   "source": [
    "import tensorflow as tf\n",
    "from tensorflow.keras import datasets, layers, models\n",
    "import matplotlib.pyplot as plt"
   ]
  },
  {
   "cell_type": "code",
   "execution_count": 16,
   "metadata": {},
   "outputs": [],
   "source": [
    "input_shape = (200, 200, 6)"
   ]
  },
  {
   "cell_type": "code",
   "execution_count": 17,
   "metadata": {},
   "outputs": [],
   "source": [
    "model = models.Sequential()\n",
    "model.add(layers.Conv2D(32, (3, 3), activation='relu', input_shape = input_shape))\n",
    "model.add(layers.MaxPooling2D((2, 2)))\n",
    "model.add(layers.Conv2D(64, (3, 3), activation='relu'))\n",
    "model.add(layers.MaxPooling2D((2, 2)))\n",
    "model.add(layers.Conv2D(64, (3, 3), activation='relu'))\n",
    "model.add(layers.Flatten())\n",
    "model.add(layers.Dense(64, activation='relu'))\n",
    "model.add(layers.Dense(9))"
   ]
  },
  {
   "cell_type": "code",
   "execution_count": 18,
   "metadata": {},
   "outputs": [
    {
     "name": "stdout",
     "output_type": "stream",
     "text": [
      "Model: \"sequential\"\n",
      "_________________________________________________________________\n",
      "Layer (type)                 Output Shape              Param #   \n",
      "=================================================================\n",
      "conv2d (Conv2D)              (None, 198, 198, 32)      1760      \n",
      "_________________________________________________________________\n",
      "max_pooling2d (MaxPooling2D) (None, 99, 99, 32)        0         \n",
      "_________________________________________________________________\n",
      "conv2d_1 (Conv2D)            (None, 97, 97, 64)        18496     \n",
      "_________________________________________________________________\n",
      "max_pooling2d_1 (MaxPooling2 (None, 48, 48, 64)        0         \n",
      "_________________________________________________________________\n",
      "conv2d_2 (Conv2D)            (None, 46, 46, 64)        36928     \n",
      "_________________________________________________________________\n",
      "flatten (Flatten)            (None, 135424)            0         \n",
      "_________________________________________________________________\n",
      "dense (Dense)                (None, 64)                8667200   \n",
      "_________________________________________________________________\n",
      "dense_1 (Dense)              (None, 9)                 585       \n",
      "=================================================================\n",
      "Total params: 8,724,969\n",
      "Trainable params: 8,724,969\n",
      "Non-trainable params: 0\n",
      "_________________________________________________________________\n"
     ]
    }
   ],
   "source": [
    "model.summary()"
   ]
  },
  {
   "cell_type": "code",
   "execution_count": 19,
   "metadata": {},
   "outputs": [
    {
     "name": "stdout",
     "output_type": "stream",
     "text": [
      "Epoch 1/10\n",
      "74/74 [==============================] - 154s 2s/step - loss: 1.9404 - accuracy: 0.3192 - val_loss: 1.6095 - val_accuracy: 0.4051\n",
      "Epoch 2/10\n",
      "74/74 [==============================] - 142s 2s/step - loss: 1.4472 - accuracy: 0.5108 - val_loss: 1.4994 - val_accuracy: 0.5010\n",
      "Epoch 3/10\n",
      "74/74 [==============================] - 141s 2s/step - loss: 1.1039 - accuracy: 0.6435 - val_loss: 1.2766 - val_accuracy: 0.5692\n",
      "Epoch 4/10\n",
      "74/74 [==============================] - 133s 2s/step - loss: 0.8079 - accuracy: 0.7401 - val_loss: 1.3319 - val_accuracy: 0.6225\n",
      "Epoch 5/10\n",
      "74/74 [==============================] - 145s 2s/step - loss: 0.6197 - accuracy: 0.8080 - val_loss: 1.4718 - val_accuracy: 0.6047\n",
      "Epoch 6/10\n",
      "74/74 [==============================] - 131s 2s/step - loss: 0.5022 - accuracy: 0.8453 - val_loss: 1.3547 - val_accuracy: 0.6176\n",
      "Epoch 7/10\n",
      "74/74 [==============================] - 127s 2s/step - loss: 0.4095 - accuracy: 0.8771 - val_loss: 1.3166 - val_accuracy: 0.6502\n",
      "Epoch 8/10\n",
      "74/74 [==============================] - 142s 2s/step - loss: 0.3224 - accuracy: 0.9080 - val_loss: 1.4915 - val_accuracy: 0.6354\n",
      "Epoch 9/10\n",
      "74/74 [==============================] - 141s 2s/step - loss: 0.2884 - accuracy: 0.9216 - val_loss: 1.4355 - val_accuracy: 0.6364\n",
      "Epoch 10/10\n",
      "74/74 [==============================] - 129s 2s/step - loss: 0.2649 - accuracy: 0.9241 - val_loss: 1.5272 - val_accuracy: 0.6502\n"
     ]
    }
   ],
   "source": [
    "model.compile(optimizer='adam',\n",
    "              loss=tf.keras.losses.SparseCategoricalCrossentropy(from_logits=True),\n",
    "              metrics=['accuracy'])\n",
    "\n",
    "history = model.fit(train_images, train_labels, epochs=10, \n",
    "                    validation_data=(test_images, test_labels))"
   ]
  },
  {
   "cell_type": "markdown",
   "metadata": {},
   "source": [
    "##### Testing"
   ]
  },
  {
   "cell_type": "code",
   "execution_count": 20,
   "metadata": {},
   "outputs": [
    {
     "name": "stdout",
     "output_type": "stream",
     "text": [
      "32/32 - 15s - loss: 1.5272 - accuracy: 0.6502\n"
     ]
    },
    {
     "data": {
      "image/png": "[encoded data removed]",
      "text/plain": [
       "<Figure size 432x288 with 1 Axes>"
      ]
     },
     "metadata": {
      "needs_background": "light"
     },
     "output_type": "display_data"
    }
   ],
   "source": [
    "plt.plot(history.history['accuracy'], label='accuracy')\n",
    "plt.plot(history.history['val_accuracy'], label = 'val_accuracy')\n",
    "plt.xlabel('Epoch')\n",
    "plt.ylabel('Accuracy')\n",
    "plt.ylim([0.5, 1])\n",
    "plt.legend(loc='lower right')\n",
    "\n",
    "test_loss, test_acc = model.evaluate(test_images,  test_labels, verbose=2)"
   ]
  },
  {
   "cell_type": "code",
   "execution_count": null,
   "metadata": {},
   "outputs": [],
   "source": [
    "import matplotlib.pyplot as plt\n",
    "plt.plot(hist.history[\"acc\"])\n",
    "plt.plot(hist.history['val_acc'])\n",
    "plt.plot(hist.history['loss'])\n",
    "plt.plot(hist.history['val_loss'])\n",
    "plt.title(\"model accuracy\")\n",
    "plt.ylabel(\"Accuracy\")\n",
    "plt.xlabel(\"Epoch\")\n",
    "plt.legend([\"Accuracy\",\"Validation Accuracy\",\"loss\",\"Validation Loss\"])\n",
    "plt.show()"
   ]
  },
  {
   "cell_type": "code",
   "execution_count": 21,
   "metadata": {},
   "outputs": [
    {
     "name": "stdout",
     "output_type": "stream",
     "text": [
      "0.6501976251602173\n"
     ]
    }
   ],
   "source": [
    "print(test_acc)"
   ]
  }
 ],
 "metadata": {
  "kernelspec": {
   "display_name": "Python 3",
   "language": "python",
   "name": "python3"
  },
  "language_info": {
   "codemirror_mode": {
    "name": "ipython",
    "version": 3
   },
   "file_extension": ".py",
   "mimetype": "text/x-python",
   "name": "python",
   "nbconvert_exporter": "python",
   "pygments_lexer": "ipython3",
   "version": "3.8.3"
  }
 },
 "nbformat": 4,
 "nbformat_minor": 4
}
