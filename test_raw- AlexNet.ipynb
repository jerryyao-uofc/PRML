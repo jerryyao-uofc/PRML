{
 "cells": [
  {
   "cell_type": "markdown",
   "metadata": {},
   "source": [
    "##### Import data"
   ]
  },
  {
   "cell_type": "markdown",
   "metadata": {},
   "source": [
    "# Project Overview \n",
    "\n",
    "This project aims to classify fabric defect using pattern recognition and machine learning techniques. The instances of defects are one of the main challenges fabric manufactors ecnounter on a daily process. By using a camera that captures the sections of fabrics produces and compared it to the corrected shape and pattern, experienced workers in the factory's quality assurance department can identify and categorize which type of farbics defects does it belong to if there is any observable defect. In ths project, we aim to automate the process of classifying the fabric defects with pattern recognition and machine learning algorithms. In ths project report, we will provide our algorithmic solutions for idneityfing fabric defect with Convolutional Neural Network. The decent accuracy could help save a significant amount of time for farbic manufactorures if the technique is incorperated in the fabric's post production qualtiy assurance process.  \n",
    "\n",
    "Acknowledgment: I have worked with Jack Xu, and Olina Liang on this project. \n"
   ]
  },
  {
   "cell_type": "markdown",
   "metadata": {},
   "source": [
    "# Problem Statement \n",
    "The goal is to create an image classifer that identifies the categorcy of defect a image is belonged to. The dataset we are given contains the target images and templet images. Target images are the images that might contain the defects. Templet images are the images that are supposed to correct and free of defects. Each target image has a corresponding template image. And label of such target image tells us the category of error does it belong to and the estimated position and bounding box of the defect. There are a total of 15 defect categories: \n",
    "\n",
    "- 0: 'unknown',\n",
    "- 1: 'escape_printing',\n",
    "- 2: 'clogging_screen',\n",
    "- 3: 'broken_hole',\n",
    "- 4: 'toe_closing_defects',\n",
    "- 5: 'water_stain',\n",
    "- 6: 'smudginess',\n",
    "- 7: 'white_stripe',\n",
    "- 8: 'hazy_printing',\n",
    "- 9: 'billet_defects',\n",
    "- 10: 'trachoma',\n",
    "- 11: 'color_smear',\n",
    "- 12: 'crease',\n",
    "- 13: 'false_positive',\n",
    "- 14: 'no_alignment'\n",
    "\n",
    "We are assigned to complete one of the three given tasks. \n",
    "\n",
    "\n",
    "In this report we will attempt two tasks: \n",
    "\n",
    "## Task 1: \n",
    "In task one, we will be working with the full dataset. We will combine category 6 and 12 as one single category. Then we will attempt to classify a total of 9 categories. Note the classification problem is to identify which one of the 9 categories does a image belong to. \n",
    "\n",
    "## Task 2：\n",
    "In task two, we will only be working with a subset of the full data set. We will first take the dataset of categroy 1, 2, 5, and 13. Then we will attempt to classfying a total of 4 categories. The classifcation problem is to identify which one of the 4 categories does an image belong to, knowing the image defect has to belong to one of the 4 categories because the data set only contains the image of 4 categories. "
   ]
  },
  {
   "cell_type": "markdown",
   "metadata": {},
   "source": [
    "We wil organize the report by two tasks. "
   ]
  },
  {
   "cell_type": "markdown",
   "metadata": {},
   "source": [
    " "
   ]
  },
  {
   "cell_type": "markdown",
   "metadata": {},
   "source": [
    "# Algorithms Overview\n",
    "\n",
    "For data preprocessing and feature extraction, we simply concategnate the defect areas of the target image and template image. So for the input layer, a usual image will contain only 3 channels, but four input layer contains 6 channels with the first three belonging to the target image and the later three belonging to the template iamge. \n",
    "\n",
    "The classifer is a Convolutional Neural Network, which is the best algorithm for image proecessing tasks. The training of CNN requires large amount of training data. We have a decent amount of images for both tasks. For some categories of defect, we don't have enough training image data to be sucessful. So implement some simple data augmentation techniques which we will describe later that helps increase the number of training images. We will use the AlexNet origianlly designed by Alex Krizhevsky. The main characteristics of AlexNet is that it goes pretty deep with eight layers, composed of 5 convolutional layers and 3 fully-connected layers. The filter size decrease from 11 to 5 and then to 3. Our implementation of AlexNet has around 60 million parameters. For the three fully connected layers we will use drop out to prevent the overfitting problem. \n",
    "\n",
    "![title](alexnet_diagram.png)"
   ]
  },
  {
   "cell_type": "markdown",
   "metadata": {},
   "source": [
    "# Task 1: \n",
    "\n",
    "# Data Preprocessing\n",
    "## Importing the data\n",
    "We will use the following script to read in the labels and data set. We will not include the code here but include at the very end of the report for reference. "
   ]
  },
  {
   "cell_type": "code",
   "execution_count": 39,
   "metadata": {},
   "outputs": [],
   "source": [
    "from util_copy import load_fabric_data, extract_label_grouping, extract_label_grouping, load_fabric_images\n",
    "import numpy as np\n",
    "from matplotlib import image"
   ]
  },
  {
   "cell_type": "markdown",
   "metadata": {},
   "source": [
    "Import the dataset by loading the images and label data. "
   ]
  },
  {
   "cell_type": "code",
   "execution_count": 2,
   "metadata": {},
   "outputs": [],
   "source": [
    "path = r\"C:/Users/Administrator/Desktop/PRML/Project/fabric_data/label_json/**/**.json\"\n",
    "\n",
    "fids, fdata = load_fabric_data(path)\n",
    "ftype1, ftype2 = extract_label_grouping(fdata)\n",
    "\n",
    "path = r\"C:/Users/Administrator/Desktop/PRML/Project/fabric_data/temp/\"\n",
    "labels, imgs = load_fabric_images(path, fids, fdata, ftype2)"
   ]
  },
  {
   "cell_type": "markdown",
   "metadata": {},
   "source": [
    "We can take a look at the total number of samples. And we will be working with the entire data set for task 1:"
   ]
  },
  {
   "cell_type": "code",
   "execution_count": 3,
   "metadata": {},
   "outputs": [
    {
     "name": "stdout",
     "output_type": "stream",
     "text": [
      "Number of samples: 3371\n"
     ]
    }
   ],
   "source": [
    "n_samples = len(imgs)\n",
    "print(\"Number of samples:\", n_samples)"
   ]
  },
  {
   "cell_type": "markdown",
   "metadata": {},
   "source": [
    "We are going to resize all of the images to the same size with the following. So that our image data have the same size. This is important because CNN requires the input images to be the same size to be working. \n"
   ]
  },
  {
   "cell_type": "code",
   "execution_count": 4,
   "metadata": {},
   "outputs": [],
   "source": [
    "import cv2\n",
    "imgs = [cv2.resize(img,(200, 200)) for img in imgs]"
   ]
  },
  {
   "cell_type": "markdown",
   "metadata": {},
   "source": [
    "## Splitting the data"
   ]
  },
  {
   "cell_type": "markdown",
   "metadata": {},
   "source": [
    "We will perform two splitting. First time is to splitting the entire data set to training set and testing set. We want to ensure that testing set is completely set aside and not involved in the building of the model at all so that the testing set act as data that the model has never seen before. "
   ]
  },
  {
   "cell_type": "code",
   "execution_count": 5,
   "metadata": {},
   "outputs": [],
   "source": [
    "from sklearn.model_selection import train_test_split\n",
    "train_images_1, test_images_1, train_labels_1, test_labels_1 = train_test_split(imgs, labels, test_size=0.2, random_state=1)"
   ]
  },
  {
   "cell_type": "markdown",
   "metadata": {},
   "source": [
    "Then before we further spliting the training data into training data and validation data. We want to check the frequency distributions of all the labels "
   ]
  },
  {
   "cell_type": "code",
   "execution_count": 6,
   "metadata": {},
   "outputs": [
    {
     "data": {
      "image/png": "[encoded data removed]",
      "text/plain": [
       "<Figure size 432x288 with 1 Axes>"
      ]
     },
     "metadata": {
      "needs_background": "light"
     },
     "output_type": "display_data"
    }
   ],
   "source": [
    "import pandas as pd\n",
    "import matplotlib.pyplot as plt\n",
    "\n",
    "# output the frequency \n",
    "df = pd.DataFrame({'freq': train_labels_1})\n",
    "df.groupby('freq', as_index=False).size().plot(kind='bar')\n",
    "plt.show()"
   ]
  },
  {
   "cell_type": "markdown",
   "metadata": {},
   "source": [
    "Note in this class we are grouping category 6 to 12 as group No.6, category 13 as group No.7, and category 14 as group No.8. According to the graph of frequency distribution for the training data, we see that we have a probelm of imbalance of training set, especially for group 3 and group 5. So we decide to manually generate some \"fake\" training data for group 3 and group 5 through the data augementation techniques below \n",
    "\n",
    "## Data Augementation \n",
    "The main idea of data augementation is to generate \"fake\" new training data for the group that has way too few training images for the models to be sucessufl later. So we first generate new data for group 3 and then for group 5. "
   ]
  },
  {
   "cell_type": "code",
   "execution_count": 7,
   "metadata": {},
   "outputs": [
    {
     "name": "stdout",
     "output_type": "stream",
     "text": [
      "26\n",
      "26\n"
     ]
    }
   ],
   "source": [
    "from numpy import array\n",
    "\n",
    "# generate a list of indicis of a certain group in the label list\n",
    "def find_indices_for_group_x(listOfLabel, group_no):\n",
    "    res = []\n",
    "    i = 0 \n",
    "    for i in range(0,len(listOfLabel)):\n",
    "        if (listOfLabel[i] == group_no):\n",
    "            res.append(i)\n",
    "    return res\n",
    "\n",
    "# indices for group 3 in the label list and training set \n",
    "group_3_indices = find_indices_for_group_x(train_labels_1, 3)\n",
    "\n",
    "# subset of all the group 3 from the training set \n",
    "group_3_images = array(train_images_1)[group_3_indices]\n",
    "\n",
    "# check the number of group 3 already available at training data \n",
    "print(len(group_3_indices))\n",
    "print(len(group_3_images))\n"
   ]
  },
  {
   "cell_type": "code",
   "execution_count": 8,
   "metadata": {},
   "outputs": [
    {
     "name": "stdout",
     "output_type": "stream",
     "text": [
      "18\n",
      "18\n"
     ]
    }
   ],
   "source": [
    "# indices for group 5 in the label list and training set \n",
    "group_5_indices = find_indices_for_group_x(train_labels_1, 5)\n",
    "\n",
    "# subset of all the group 5 from the training set \n",
    "group_5_images = array(train_images_1)[group_5_indices]\n",
    "\n",
    "# check the number of group 3 already available at training data \n",
    "print(len(group_5_indices))\n",
    "print(len(group_5_images))"
   ]
  },
  {
   "cell_type": "code",
   "execution_count": 9,
   "metadata": {},
   "outputs": [],
   "source": [
    "# Data augementation \n",
    "# generate more category FIVE\n",
    "\n",
    "def rotate_a_bunch(a_list_of_image):\n",
    "    res = []\n",
    "    for i in range(0, len(a_list_of_image)):\n",
    "        rotate_once1 = np.rot90(a_list_of_image[i], k=1, axes=(0, 1))\n",
    "        a = rotate_once1[::-1]\n",
    "        rotate_twice1 = np.rot90(rotate_once1, k=1, axes=(0, 1))\n",
    "        b = rotate_twice1[::-1]\n",
    "        rotate_third1 = np.rot90(rotate_twice1, k=1, axes=(0, 1))\n",
    "        c = rotate_third1[::-1]\n",
    "        rotate_once2 = np.rot90(a_list_of_image[i], k=1, axes=(1, 0))\n",
    "        d= rotate_once2[::-1]\n",
    "        rotate_twice2 = np.rot90(rotate_once2, k=1, axes=(1, 0))\n",
    "        e = rotate_twice2[::-1]\n",
    "        rotate_third2 = np.rot90(rotate_twice2, k=1, axes=(1, 0))\n",
    "        f = rotate_third2[::-1]\n",
    "        \n",
    "        new_gen = [rotate_once1,rotate_once2, rotate_twice1,rotate_twice2,rotate_third1, rotate_third2 ]\n",
    "        new_gen2 = [a,b,c,d,e,f]\n",
    "        res= new_gen + res + new_gen2\n",
    "    return np.array(res) \n",
    "\n",
    "# generate new group 3 images \n",
    "generated_3_images = rotate_a_bunch(group_3_images)\n",
    "\n",
    "# generate new group 3 labels \n",
    "generated_3_labels = [3] * len(generated_3_images)"
   ]
  },
  {
   "cell_type": "code",
   "execution_count": 10,
   "metadata": {},
   "outputs": [],
   "source": [
    "# generate new group 5 images \n",
    "generated_5_images = rotate_a_bunch(group_5_images)\n",
    "\n",
    "# generate new group 5 labels \n",
    "generated_5_labels = [5] * len(generated_5_images)"
   ]
  },
  {
   "cell_type": "markdown",
   "metadata": {},
   "source": [
    "Now we concatenate all the training images together with the new image data generated with the order preserved. Note testing data is not involved in any of the data augementation process. Because we want to ganurentee that all the testing data represents all the real image data. "
   ]
  },
  {
   "cell_type": "code",
   "execution_count": 11,
   "metadata": {},
   "outputs": [],
   "source": [
    "# create the new training data set (note test data set is already seperated out before hand) \n",
    "\n",
    "train_images_1_new = np.concatenate((train_images_1 , generated_3_images, generated_5_images)) \n",
    "train_labels_1_new = np.concatenate((train_labels_1 , generated_3_labels, generated_5_labels)) "
   ]
  },
  {
   "cell_type": "markdown",
   "metadata": {},
   "source": [
    "So now we can take a look at the distribution of the new training data set: "
   ]
  },
  {
   "cell_type": "code",
   "execution_count": 13,
   "metadata": {},
   "outputs": [
    {
     "data": {
      "image/png": "[encoded data removed]",
      "text/plain": [
       "<Figure size 432x288 with 1 Axes>"
      ]
     },
     "metadata": {
      "needs_background": "light"
     },
     "output_type": "display_data"
    }
   ],
   "source": [
    "# output the new frequency \n",
    "df = pd.DataFrame({'freq': train_labels_1_new})\n",
    "df.groupby('freq', as_index=False).size().plot(kind='bar')\n",
    "plt.show()"
   ]
  },
  {
   "cell_type": "markdown",
   "metadata": {},
   "source": [
    "So the imbalance of the training sample seems to be eased up a little, although group 5 still has significantly fewer training size than others. "
   ]
  },
  {
   "cell_type": "markdown",
   "metadata": {},
   "source": [
    "## Splitting the training and validation set \n",
    "We will now split the new training set in to actual training set and the validation set. The validation set is used to fine tune our model along the way. "
   ]
  },
  {
   "cell_type": "code",
   "execution_count": 14,
   "metadata": {},
   "outputs": [],
   "source": [
    "train1_images , val_images, train1_labels , val_labels =  train_test_split(train_images_1_new, train_labels_1_new, test_size=0.1, random_state=1)"
   ]
  },
  {
   "cell_type": "markdown",
   "metadata": {},
   "source": [
    "## Normalize the image data\n",
    "We will normalize the data by dividing 255. "
   ]
  },
  {
   "cell_type": "code",
   "execution_count": 15,
   "metadata": {},
   "outputs": [
    {
     "ename": "TypeError",
     "evalue": "unsupported operand type(s) for /: 'list' and 'float'",
     "output_type": "error",
     "traceback": [
      "\u001b[1;31m---------------------------------------------------------------------------\u001b[0m",
      "\u001b[1;31mTypeError\u001b[0m                                 Traceback (most recent call last)",
      "\u001b[1;32m<ipython-input-15-529444d8eda1>\u001b[0m in \u001b[0;36m<module>\u001b[1;34m\u001b[0m\n\u001b[0;32m      1\u001b[0m \u001b[0mtrain1_images\u001b[0m \u001b[1;33m=\u001b[0m \u001b[0mtrain1_images\u001b[0m \u001b[1;33m/\u001b[0m \u001b[1;36m255.0\u001b[0m\u001b[1;33m\u001b[0m\u001b[1;33m\u001b[0m\u001b[0m\n\u001b[0;32m      2\u001b[0m \u001b[0mval_images\u001b[0m    \u001b[1;33m=\u001b[0m \u001b[0mval_images\u001b[0m \u001b[1;33m/\u001b[0m \u001b[1;36m255.0\u001b[0m\u001b[1;33m\u001b[0m\u001b[1;33m\u001b[0m\u001b[0m\n\u001b[1;32m----> 3\u001b[1;33m \u001b[0mtest_images_1\u001b[0m   \u001b[1;33m=\u001b[0m \u001b[0mtest_images_1\u001b[0m \u001b[1;33m/\u001b[0m \u001b[1;36m255.0\u001b[0m\u001b[1;33m\u001b[0m\u001b[1;33m\u001b[0m\u001b[0m\n\u001b[0m",
      "\u001b[1;31mTypeError\u001b[0m: unsupported operand type(s) for /: 'list' and 'float'"
     ]
    }
   ],
   "source": [
    "train1_images = train1_images / 255.0 \n",
    "val_images    = val_images / 255.0 \n",
    "test_images_1 = np.array(test_images_1)/ 255.0"
   ]
  },
  {
   "cell_type": "code",
   "execution_count": 20,
   "metadata": {},
   "outputs": [],
   "source": [
    "\n"
   ]
  },
  {
   "cell_type": "code",
   "execution_count": null,
   "metadata": {},
   "outputs": [],
   "source": []
  },
  {
   "cell_type": "markdown",
   "metadata": {},
   "source": [
    "And we can take a summary of the size of training, validation, and testing data. We can move further for our training process. "
   ]
  },
  {
   "cell_type": "code",
   "execution_count": 21,
   "metadata": {},
   "outputs": [
    {
     "name": "stdout",
     "output_type": "stream",
     "text": [
      "#Training data: 2901\n",
      " #Validation data: 323\n",
      " #Testing data: 675\n",
      "#Class: 9\n"
     ]
    }
   ],
   "source": [
    "print(\"#Training data: {}\\n #Validation data: {}\\n #Testing data: {}\\n#Class: {}\".format(len(train1_images), len(val_images), len(test_images_1), len(set(train1_labels))))"
   ]
  },
  {
   "cell_type": "markdown",
   "metadata": {},
   "source": [
    "# Implementation "
   ]
  },
  {
   "cell_type": "markdown",
   "metadata": {},
   "source": [
    "We will start building our Convolutional Neurel Network model and more specifically an AlexNet "
   ]
  },
  {
   "cell_type": "code",
   "execution_count": 22,
   "metadata": {},
   "outputs": [],
   "source": [
    "# Load the TensorBoard notebook extension\n",
    "%load_ext tensorboard\n",
    "\n",
    "import datetime\n",
    "import tensorflow as tf\n",
    "from tensorflow.keras import Model\n",
    "from tensorflow.keras.models import Sequential\n",
    "from tensorflow.keras.utils import to_categorical\n",
    "from tensorflow.keras.losses import categorical_crossentropy\n",
    "from tensorflow.keras.preprocessing.image import ImageDataGenerator\n",
    "from tensorflow.keras.layers import Dense, Flatten, Conv2D, MaxPooling2D, Dropout"
   ]
  },
  {
   "cell_type": "markdown",
   "metadata": {},
   "source": [
    "I have referred to the following note when writing the architexture of Alex Net: http://datahacker.rs/tf-alexnet/"
   ]
  },
  {
   "cell_type": "code",
   "execution_count": 23,
   "metadata": {},
   "outputs": [],
   "source": [
    "num_classes = len(set(train1_labels))\n",
    "\n",
    "# AlexNet model\n",
    "class AlexNet(Sequential):\n",
    "    def __init__(self, input_shape, num_classes):\n",
    "        super().__init__()\n",
    "\n",
    "        self.add(Conv2D(96, kernel_size=(11,11), strides= 4,\n",
    "                        padding= 'valid', activation= 'relu',\n",
    "                        input_shape= input_shape,\n",
    "                        kernel_initializer= 'he_normal'))\n",
    "        self.add(MaxPooling2D(pool_size=(3,3), strides= (2,2),\n",
    "                              padding= 'valid', data_format= None))\n",
    "\n",
    "        self.add(Conv2D(256, kernel_size=(5,5), strides= 1,\n",
    "                        padding= 'same', activation= 'relu',\n",
    "                        kernel_initializer= 'he_normal'))\n",
    "        self.add(MaxPooling2D(pool_size=(3,3), strides= (2,2),\n",
    "                              padding= 'valid', data_format= None)) \n",
    "\n",
    "        self.add(Conv2D(384, kernel_size=(3,3), strides= 1,\n",
    "                        padding= 'same', activation= 'relu',\n",
    "                        kernel_initializer= 'he_normal'))\n",
    "\n",
    "        self.add(Conv2D(384, kernel_size=(3,3), strides= 1,\n",
    "                        padding= 'same', activation= 'relu',\n",
    "                        kernel_initializer= 'he_normal'))\n",
    "\n",
    "        self.add(Conv2D(256, kernel_size=(3,3), strides= 1,\n",
    "                        padding= 'same', activation= 'relu',\n",
    "                        kernel_initializer= 'he_normal'))\n",
    "\n",
    "        self.add(MaxPooling2D(pool_size=(3,3), strides= (2,2),\n",
    "                              padding= 'valid', data_format= None))\n",
    "        #drop out at 0.05 achieve 71% accuracy \n",
    "        #drop out at 0.08 achieve 81% accuracy\n",
    "        #drop out at 0.1 achieve 84% accuracy in prediction\n",
    "        #drop out at 0.15 achieve 80%  accuracy \n",
    "        #drop out at 0.2 achieve 80% accuracy in prediction\n",
    "        #drop out at 0.3 achieve 80% accuracy in prediction \n",
    "        #drop out at 0.4 achieve 79% accuracy in prediction \n",
    "        #drop out at 0.5 achieve 73% accuracy in prediction \n",
    "        self.add(Flatten())\n",
    "        self.add(Dense(4096, activation= 'relu'))\n",
    "        self.add(Dropout(0.1))\n",
    "        self.add(Dense(4096, activation= 'relu'))\n",
    "        self.add(Dropout(0.1))\n",
    "        self.add(Dense(1000, activation= 'relu'))\n",
    "        self.add(Dropout(0.1))\n",
    "        self.add(Dense(num_classes, activation= 'softmax'))\n",
    "\n",
    "        self.compile(optimizer= tf.keras.optimizers.Adam(0.0001),\n",
    "                    loss=tf.keras.losses.SparseCategoricalCrossentropy(from_logits=False),\n",
    "                    metrics=['accuracy'])"
   ]
  },
  {
   "cell_type": "markdown",
   "metadata": {},
   "source": [
    "Now we will compile our model and take a look at the summary of the layers information "
   ]
  },
  {
   "cell_type": "code",
   "execution_count": 24,
   "metadata": {},
   "outputs": [
    {
     "name": "stdout",
     "output_type": "stream",
     "text": [
      "Model: \"alex_net\"\n",
      "_________________________________________________________________\n",
      "Layer (type)                 Output Shape              Param #   \n",
      "=================================================================\n",
      "conv2d (Conv2D)              (None, 48, 48, 96)        69792     \n",
      "_________________________________________________________________\n",
      "max_pooling2d (MaxPooling2D) (None, 23, 23, 96)        0         \n",
      "_________________________________________________________________\n",
      "conv2d_1 (Conv2D)            (None, 23, 23, 256)       614656    \n",
      "_________________________________________________________________\n",
      "max_pooling2d_1 (MaxPooling2 (None, 11, 11, 256)       0         \n",
      "_________________________________________________________________\n",
      "conv2d_2 (Conv2D)            (None, 11, 11, 384)       885120    \n",
      "_________________________________________________________________\n",
      "conv2d_3 (Conv2D)            (None, 11, 11, 384)       1327488   \n",
      "_________________________________________________________________\n",
      "conv2d_4 (Conv2D)            (None, 11, 11, 256)       884992    \n",
      "_________________________________________________________________\n",
      "max_pooling2d_2 (MaxPooling2 (None, 5, 5, 256)         0         \n",
      "_________________________________________________________________\n",
      "flatten (Flatten)            (None, 6400)              0         \n",
      "_________________________________________________________________\n",
      "dense (Dense)                (None, 4096)              26218496  \n",
      "_________________________________________________________________\n",
      "dropout (Dropout)            (None, 4096)              0         \n",
      "_________________________________________________________________\n",
      "dense_1 (Dense)              (None, 4096)              16781312  \n",
      "_________________________________________________________________\n",
      "dropout_1 (Dropout)          (None, 4096)              0         \n",
      "_________________________________________________________________\n",
      "dense_2 (Dense)              (None, 1000)              4097000   \n",
      "_________________________________________________________________\n",
      "dropout_2 (Dropout)          (None, 1000)              0         \n",
      "_________________________________________________________________\n",
      "dense_3 (Dense)              (None, 9)                 9009      \n",
      "=================================================================\n",
      "Total params: 50,887,865\n",
      "Trainable params: 50,887,865\n",
      "Non-trainable params: 0\n",
      "_________________________________________________________________\n"
     ]
    }
   ],
   "source": [
    "model = AlexNet((200, 200, 6), num_classes)\n",
    "model.summary()\n"
   ]
  },
  {
   "cell_type": "code",
   "execution_count": 25,
   "metadata": {},
   "outputs": [
    {
     "name": "stdout",
     "output_type": "stream",
     "text": [
      "Epoch 1/10\n",
      "91/91 [==============================] - 270s 3s/step - loss: 2.0303 - accuracy: 0.2727 - val_loss: 1.7675 - val_accuracy: 0.4180\n",
      "Epoch 2/10\n",
      "91/91 [==============================] - 253s 3s/step - loss: 1.5016 - accuracy: 0.4767 - val_loss: 1.3903 - val_accuracy: 0.4985\n",
      "Epoch 3/10\n",
      "91/91 [==============================] - 254s 3s/step - loss: 1.1674 - accuracy: 0.6005 - val_loss: 1.1384 - val_accuracy: 0.5789\n",
      "Epoch 4/10\n",
      "91/91 [==============================] - 263s 3s/step - loss: 0.9644 - accuracy: 0.6680 - val_loss: 1.0185 - val_accuracy: 0.6440\n",
      "Epoch 5/10\n",
      "91/91 [==============================] - 249s 3s/step - loss: 0.8215 - accuracy: 0.7215 - val_loss: 1.0926 - val_accuracy: 0.6347\n",
      "Epoch 6/10\n",
      "91/91 [==============================] - 256s 3s/step - loss: 0.6970 - accuracy: 0.7549 - val_loss: 0.8308 - val_accuracy: 0.7276\n",
      "Epoch 7/10\n",
      "91/91 [==============================] - 274s 3s/step - loss: 0.5757 - accuracy: 0.7956 - val_loss: 0.8513 - val_accuracy: 0.7183\n",
      "Epoch 8/10\n",
      "91/91 [==============================] - 284s 3s/step - loss: 0.5140 - accuracy: 0.8121 - val_loss: 0.8625 - val_accuracy: 0.7152\n",
      "Epoch 9/10\n",
      "91/91 [==============================] - 264s 3s/step - loss: 0.4723 - accuracy: 0.8411 - val_loss: 0.8855 - val_accuracy: 0.7276\n",
      "Epoch 10/10\n",
      "91/91 [==============================] - 265s 3s/step - loss: 0.4321 - accuracy: 0.8425 - val_loss: 0.8665 - val_accuracy: 0.7307\n"
     ]
    }
   ],
   "source": [
    "# start training\n",
    "history = model.fit(train1_images, train1_labels, epochs=10, \n",
    "                    validation_data=(val_images, val_labels))"
   ]
  },
  {
   "cell_type": "markdown",
   "metadata": {},
   "source": [
    "# Results and Analysis"
   ]
  },
  {
   "cell_type": "markdown",
   "metadata": {},
   "source": [
    "We can graph the performance of the training over the 10 epochs below:"
   ]
  },
  {
   "cell_type": "code",
   "execution_count": 34,
   "metadata": {},
   "outputs": [
    {
     "name": "stdout",
     "output_type": "stream",
     "text": [
      "11/11 - 5s - loss: 0.8665 - accuracy: 0.7307\n"
     ]
    },
    {
     "data": {
      "image/png": "[encoded data removed]",
      "text/plain": [
       "<Figure size 432x288 with 1 Axes>"
      ]
     },
     "metadata": {
      "needs_background": "light"
     },
     "output_type": "display_data"
    }
   ],
   "source": [
    "plt.plot(history.history['accuracy'], label='accuracy')\n",
    "plt.plot(history.history['val_accuracy'], label = 'val_accuracy')\n",
    "plt.xlabel('Epoch')\n",
    "plt.ylabel('Accuracy')\n",
    "plt.ylim([0.5, 1])\n",
    "plt.legend(loc='lower right')\n",
    "\n",
    "test_loss, test_acc = model.evaluate(val_images,  val_labels, verbose=2)"
   ]
  },
  {
   "cell_type": "markdown",
   "metadata": {},
   "source": [
    "We see that the accuracy and validated accuracy doesn't seem to converge. \n",
    "\n",
    "Then we can make the predictionss with the following: "
   ]
  },
  {
   "cell_type": "code",
   "execution_count": 27,
   "metadata": {},
   "outputs": [
    {
     "name": "stdout",
     "output_type": "stream",
     "text": [
      "WARNING:tensorflow:From <ipython-input-27-05e1b1e4497d>:2: Sequential.predict_classes (from tensorflow.python.keras.engine.sequential) is deprecated and will be removed after 2021-01-01.\n",
      "Instructions for updating:\n",
      "Please use instead:* `np.argmax(model.predict(x), axis=-1)`,   if your model does multi-class classification   (e.g. if it uses a `softmax` last-layer activation).* `(model.predict(x) > 0.5).astype(\"int32\")`,   if your model does binary classification   (e.g. if it uses a `sigmoid` last-layer activation).\n"
     ]
    }
   ],
   "source": [
    "# make prediction\n",
    "predicted_label = model.predict_classes(test_images_1)"
   ]
  },
  {
   "cell_type": "markdown",
   "metadata": {},
   "source": [
    "Then we can draw the confusion matrix. The following section of code is origianlly from: http://scikit-learn.org/stable/auto_examples/model_selection/plot_confusion_matrix.html"
   ]
  },
  {
   "cell_type": "code",
   "execution_count": 52,
   "metadata": {},
   "outputs": [],
   "source": [
    "def plot_confusion_matrix(cm,\n",
    "                          target_names,\n",
    "                          title='Confusion matrix',\n",
    "                          cmap=None,\n",
    "                          normalize=True):\n",
    "   \n",
    "    import matplotlib.pyplot as plt\n",
    "    import numpy as np\n",
    "    import itertools\n",
    "\n",
    "    accuracy = np.trace(cm) / float(np.sum(cm))\n",
    "    misclass = 1 - accuracy\n",
    "\n",
    "    if cmap is None:\n",
    "        cmap = plt.get_cmap('Blues')\n",
    "\n",
    "    plt.figure(figsize=(8, 6))\n",
    "    plt.imshow(cm, interpolation='nearest', cmap=cmap)\n",
    "    plt.title(title)\n",
    "    plt.colorbar()\n",
    "\n",
    "    if target_names is not None:\n",
    "        tick_marks = np.arange(len(target_names))\n",
    "        plt.xticks(tick_marks, target_names, rotation=45)\n",
    "        plt.yticks(tick_marks, target_names)\n",
    "\n",
    "    if normalize:\n",
    "        cm = cm.astype('float') / cm.sum(axis=1)[:, np.newaxis]\n",
    "\n",
    "\n",
    "    thresh = cm.max() / 1.5 if normalize else cm.max() / 2\n",
    "    for i, j in itertools.product(range(cm.shape[0]), range(cm.shape[1])):\n",
    "        if normalize:\n",
    "            plt.text(j, i, \"{:0.4f}\".format(cm[i, j]),\n",
    "                     horizontalalignment=\"center\",\n",
    "                     color=\"black\" if cm[i, j] > thresh else \"black\")\n",
    "        else:\n",
    "            plt.text(j, i, \"{:,}\".format(cm[i, j]),\n",
    "                     horizontalalignment=\"center\",\n",
    "                     color=\"white\" if cm[i, j] > thresh else \"black\")\n",
    "\n",
    "\n",
    "    plt.tight_layout()\n",
    "    plt.ylabel('True label')\n",
    "    plt.xlabel('Predicted label\\naccuracy={:0.4f}; misclass={:0.4f}'.format(accuracy, misclass))\n",
    "    plt.show()"
   ]
  },
  {
   "cell_type": "code",
   "execution_count": 53,
   "metadata": {},
   "outputs": [
    {
     "data": {
      "image/png": "[encoded data removed]",
      "text/plain": [
       "<Figure size 576x432 with 2 Axes>"
      ]
     },
     "metadata": {
      "needs_background": "light"
     },
     "output_type": "display_data"
    }
   ],
   "source": [
    "from sklearn.metrics import classification_report, confusion_matrix\n",
    "\n",
    "plot_confusion_matrix(cm           = confusion_matrix(test_labels_1, predicted_label), \n",
    "                      normalize    = False,\n",
    "                      target_names = [0,1,2,3,4,5,6,7,8],\n",
    "                      title        = \"Confusion Matrix\")"
   ]
  },
  {
   "cell_type": "code",
   "execution_count": 44,
   "metadata": {},
   "outputs": [
    {
     "name": "stdout",
     "output_type": "stream",
     "text": [
      "              precision    recall  f1-score   support\n",
      "\n",
      "           0       0.53      0.62      0.57       111\n",
      "           1       0.82      0.63      0.71        78\n",
      "           2       0.74      0.78      0.76        69\n",
      "           3       0.22      0.50      0.30        10\n",
      "           4       0.93      0.83      0.88       103\n",
      "           5       1.00      0.67      0.80         3\n",
      "           6       0.60      0.59      0.59       116\n",
      "           7       0.53      0.50      0.51        78\n",
      "           8       0.81      0.81      0.81       107\n",
      "\n",
      "    accuracy                           0.68       675\n",
      "   macro avg       0.69      0.66      0.66       675\n",
      "weighted avg       0.70      0.68      0.69       675\n",
      "\n"
     ]
    }
   ],
   "source": [
    "print(classification_report(test_labels_1, predicted_label))"
   ]
  },
  {
   "cell_type": "markdown",
   "metadata": {},
   "source": [
    "We see the accuracy based on the testing images is around 68% which is a little lower than the estimated 70% based on the validated accuracy. "
   ]
  },
  {
   "cell_type": "markdown",
   "metadata": {},
   "source": [
    "# Task 2:\n",
    "\n",
    "For task 2, we will only be taking the image data that is known to come from four categories of 1, 2, 5, and 13. And we will train and test among this subset of data. We will do the similar data preprocessing procedures. Like we did in the task 1 with data augementation of category 5 because it has signifcantly smaller sample size. And we will perform the normalization like before."
   ]
  },
  {
   "cell_type": "code",
   "execution_count": null,
   "metadata": {},
   "outputs": [],
   "source": [
    "# first select the four categories out of the original sample. \n",
    "def find_indices_four_cat(listOfLabel):\n",
    "    res = []\n",
    "    i = 0 \n",
    "    for i in range(0,len(listOfLabel)):\n",
    "        if (listOfLabel[i] == 1) or (listOfLabel[i]== 2) or (listOfLabel[i] == 5) or (listOfLabel[i] == 13): \n",
    "            res.append(i)\n",
    "    return res\n",
    "\n",
    "label_four_cat_indices = find_indices_four_cat(labels)\n",
    "\n",
    "# select the fours category out of the sample \n",
    "labels_four_cat = array(labels)[label_four_cat_indices]\n",
    "samples_four_cat = array(imgs)[label_four_cat_indices]\n",
    "\n",
    "labels = labels_four_cat\n",
    "imgs = samples_four_cat\n",
    "\n",
    "\n"
   ]
  },
  {
   "cell_type": "markdown",
   "metadata": {},
   "source": [
    "# Conclusions "
   ]
  },
  {
   "cell_type": "code",
   "execution_count": null,
   "metadata": {},
   "outputs": [],
   "source": [
    "print(imgs[1230].shape)"
   ]
  },
  {
   "cell_type": "code",
   "execution_count": null,
   "metadata": {},
   "outputs": [],
   "source": [
    "# another way of selecting categories\n",
    "from numpy import array\n",
    "\n",
    "myIndices = []\n",
    "\n",
    "\n"
   ]
  },
  {
   "cell_type": "code",
   "execution_count": null,
   "metadata": {},
   "outputs": [],
   "source": [
    "labels = labels_four_cat\n",
    "imgs = samples_four_cat\n",
    "\n",
    "print(len(imgs))\n",
    "\n"
   ]
  },
  {
   "cell_type": "markdown",
   "metadata": {},
   "source": [
    "##### Padding\n",
    "- https://blog.csdn.net/wuzqChom/article/details/74785643\n",
    "- https://stackoverflow.com/questions/47697622/cnn-image-resizing-vs-padding-keeping-aspect-ratio-or-not/49882055#49882055\n",
    "- https://stackoverflow.com/questions/43391205/add-padding-to-images-to-get-them-into-the-same-shape"
   ]
  },
  {
   "cell_type": "code",
   "execution_count": null,
   "metadata": {},
   "outputs": [],
   "source": []
  },
  {
   "cell_type": "markdown",
   "metadata": {},
   "source": [
    "##### Split data"
   ]
  },
  {
   "cell_type": "code",
   "execution_count": null,
   "metadata": {},
   "outputs": [],
   "source": []
  },
  {
   "cell_type": "code",
   "execution_count": null,
   "metadata": {},
   "outputs": [],
   "source": []
  },
  {
   "cell_type": "markdown",
   "metadata": {},
   "source": [
    "##### Normalize data"
   ]
  },
  {
   "cell_type": "code",
   "execution_count": null,
   "metadata": {},
   "outputs": [],
   "source": [
    "\n",
    "#first split, split to the training and testing (we will futher split training later because we need validation set )\n",
    "train_images, test_images, train_labels, test_labels = np.array(train_images), np.array(test_images), np.array(train_labels), np.array(test_labels)\n",
    "train_images, test_images = train_images / 255.0, test_images / 255.0"
   ]
  },
  {
   "cell_type": "code",
   "execution_count": null,
   "metadata": {},
   "outputs": [],
   "source": [
    "train_images.shape\n",
    "print(len(test_labels))\n",
    "# note all the test labels are real images at this point. We are only going to generate fake data for the training set"
   ]
  },
  {
   "cell_type": "code",
   "execution_count": null,
   "metadata": {},
   "outputs": [],
   "source": [
    "# subset all the 5s \n",
    "def find_indices_5(listOfLabel):\n",
    "    res = []\n",
    "    i = 0 \n",
    "    for i in range(0,len(listOfLabel)):\n",
    "        if (listOfLabel[i] == 5): \n",
    "            res.append(i)\n",
    "    return res\n",
    "\n",
    "label_five = find_indices_5(train_labels)\n",
    "print(len(label_five))\n",
    "\n",
    "train_is_five = array(train_images)[label_five]\n",
    "\n",
    "# the is the training data that has labelled as \"5\"\n",
    "print(train_is_five)"
   ]
  },
  {
   "cell_type": "markdown",
   "metadata": {},
   "source": [
    "##### Generate fake data"
   ]
  },
  {
   "cell_type": "markdown",
   "metadata": {},
   "source": [
    "Data augementation. Because category five has only 13 samples. We decide to rotate them and flip them and etc. "
   ]
  },
  {
   "cell_type": "code",
   "execution_count": null,
   "metadata": {},
   "outputs": [],
   "source": [
    "# Data augementation \n",
    "# generate more category FIVE\n",
    "\n",
    "def rotate_a_bunch(a_list_of_image):\n",
    "    res = []\n",
    "    for i in range(0, len(a_list_of_image)):\n",
    "        rotate_once1 = np.rot90(a_list_of_image[i], k=1, axes=(0, 1))\n",
    "        a = rotate_once1[::-1]\n",
    "        rotate_twice1 = np.rot90(rotate_once1, k=1, axes=(0, 1))\n",
    "        b = rotate_twice1[::-1]\n",
    "        rotate_third1 = np.rot90(rotate_twice1, k=1, axes=(0, 1))\n",
    "        c = rotate_third1[::-1]\n",
    "        rotate_once2 = np.rot90(a_list_of_image[i], k=1, axes=(1, 0))\n",
    "        d= rotate_once2[::-1]\n",
    "        rotate_twice2 = np.rot90(rotate_once2, k=1, axes=(1, 0))\n",
    "        e = rotate_twice2[::-1]\n",
    "        rotate_third2 = np.rot90(rotate_twice2, k=1, axes=(1, 0))\n",
    "        f = rotate_third2[::-1]\n",
    "        \n",
    "        new_gen = [rotate_once1,rotate_once2, rotate_twice1,rotate_twice2,rotate_third1, rotate_third2 ]\n",
    "        new_gen2 = [a,b,c,d,e,f]\n",
    "        res= new_gen + res + new_gen2\n",
    "    return np.array(res) \n",
    "\n",
    "generated_5 = rotate_a_bunch(train_is_five)\n",
    "\n",
    "print(generated_5)\n",
    "\n",
    "generated_5_label = [5] * len(generated_5)\n",
    "\n",
    "# create the new training data set (note test data set is already seperated out before hand)\n",
    "train_images = np.concatenate((train_images , generated_5)) \n",
    "train_labels =  np.concatenate((train_labels , generated_5_label)) "
   ]
  },
  {
   "cell_type": "code",
   "execution_count": null,
   "metadata": {},
   "outputs": [],
   "source": [
    "print(len(train_images))\n",
    "print(len(train_labels))\n",
    "print(train_labels)"
   ]
  },
  {
   "cell_type": "markdown",
   "metadata": {},
   "source": [
    "Further split training data to actual training data and validation data set. "
   ]
  },
  {
   "cell_type": "code",
   "execution_count": null,
   "metadata": {},
   "outputs": [],
   "source": [
    "train1_images , val_images, train1_labels , val_labels =  train_test_split(train_images, train_labels, test_size=0.2, random_state=1)"
   ]
  },
  {
   "cell_type": "markdown",
   "metadata": {},
   "source": [
    "The number of each data set after the data augementation "
   ]
  },
  {
   "cell_type": "code",
   "execution_count": null,
   "metadata": {},
   "outputs": [],
   "source": [
    "print(\"#Training data: {}\\n #Validation data: {}\\n #Testing data: {}\\n#Class: {}\".format(len(train1_images), len(val_images), len(test_images), len(set(train_labels))))"
   ]
  },
  {
   "cell_type": "code",
   "execution_count": null,
   "metadata": {},
   "outputs": [],
   "source": [
    "\n",
    "\n"
   ]
  },
  {
   "cell_type": "code",
   "execution_count": null,
   "metadata": {},
   "outputs": [],
   "source": [
    "# rename 1,2,5,12 category number to 0 1 2 3 \n",
    "def change_cat_number(list_1):\n",
    "    for i in range(0,len(list_1)):\n",
    "        if list_1[i] == 1:\n",
    "            list_1[i] = 0\n",
    "        elif list_1[i] == 2:\n",
    "            list_1[i] = 1\n",
    "        elif list_1[i] == 5:\n",
    "            list_1[i] = 2\n",
    "        else: \n",
    "            list_1[i] = 3\n",
    "    return list_1\n",
    "\n",
    "train1_labels = change_cat_number(train1_labels)\n",
    "val_labels= change_cat_number(val_labels)\n",
    "test_labels = change_cat_number(test_labels)\n"
   ]
  },
  {
   "cell_type": "markdown",
   "metadata": {},
   "source": [
    "take a look at the frequency distribution of our four categories in the training data set "
   ]
  },
  {
   "cell_type": "code",
   "execution_count": null,
   "metadata": {},
   "outputs": [],
   "source": [
    "import pandas as pd\n",
    "import matplotlib.pyplot as plt\n",
    "\n",
    "# output the new frequency \n",
    "df = pd.DataFrame({'freq': train1_labels})\n",
    "df.groupby('freq', as_index=False).size().plot(kind='bar')\n",
    "plt.show()"
   ]
  },
  {
   "cell_type": "markdown",
   "metadata": {},
   "source": [
    "Take a look at transformed labels. There should only by 0, 1,2 ,3. "
   ]
  },
  {
   "cell_type": "code",
   "execution_count": null,
   "metadata": {},
   "outputs": [],
   "source": [
    "\n",
    "print(val_labels)"
   ]
  },
  {
   "cell_type": "markdown",
   "metadata": {},
   "source": [
    "##### Create model\n",
    "- https://www.tensorflow.org/tutorials/images/classification"
   ]
  },
  {
   "cell_type": "code",
   "execution_count": null,
   "metadata": {},
   "outputs": [],
   "source": []
  },
  {
   "cell_type": "code",
   "execution_count": null,
   "metadata": {},
   "outputs": [],
   "source": [
    "num_classes = len(set(train_labels))\n",
    "\n",
    "# AlexNet model\n",
    "class AlexNet(Sequential):\n",
    "    def __init__(self, input_shape, num_classes):\n",
    "        super().__init__()\n",
    "\n",
    "        self.add(Conv2D(96, kernel_size=(11,11), strides= 4,\n",
    "                        padding= 'valid', activation= 'relu',\n",
    "                        input_shape= input_shape,\n",
    "                        kernel_initializer= 'he_normal'))\n",
    "        self.add(MaxPooling2D(pool_size=(3,3), strides= (2,2),\n",
    "                              padding= 'valid', data_format= None))\n",
    "\n",
    "        self.add(Conv2D(256, kernel_size=(5,5), strides= 1,\n",
    "                        padding= 'same', activation= 'relu',\n",
    "                        kernel_initializer= 'he_normal'))\n",
    "        self.add(MaxPooling2D(pool_size=(3,3), strides= (2,2),\n",
    "                              padding= 'valid', data_format= None)) \n",
    "\n",
    "        self.add(Conv2D(384, kernel_size=(3,3), strides= 1,\n",
    "                        padding= 'same', activation= 'relu',\n",
    "                        kernel_initializer= 'he_normal'))\n",
    "\n",
    "        self.add(Conv2D(384, kernel_size=(3,3), strides= 1,\n",
    "                        padding= 'same', activation= 'relu',\n",
    "                        kernel_initializer= 'he_normal'))\n",
    "\n",
    "        self.add(Conv2D(256, kernel_size=(3,3), strides= 1,\n",
    "                        padding= 'same', activation= 'relu',\n",
    "                        kernel_initializer= 'he_normal'))\n",
    "\n",
    "        self.add(MaxPooling2D(pool_size=(3,3), strides= (2,2),\n",
    "                              padding= 'valid', data_format= None))\n",
    "        #drop out at 0.05 achieve 71% accuracy \n",
    "        #drop out at 0.08 achieve 81% accuracy\n",
    "        #drop out at 0.1 achieve 84% accuracy in prediction\n",
    "        #drop out at 0.15 achieve 80%  accuracy \n",
    "        #drop out at 0.2 achieve 80% accuracy in prediction\n",
    "        #drop out at 0.3 achieve 80% accuracy in prediction \n",
    "        #drop out at 0.4 achieve 79% accuracy in prediction \n",
    "        #drop out at 0.5 achieve 73% accuracy in prediction \n",
    "        self.add(Flatten())\n",
    "        self.add(Dense(4096, activation= 'relu'))\n",
    "        self.add(Dropout(0.1))\n",
    "        self.add(Dense(4096, activation= 'relu'))\n",
    "        self.add(Dropout(0.1))\n",
    "        self.add(Dense(1000, activation= 'relu'))\n",
    "        self.add(Dropout(0.1))\n",
    "        self.add(Dense(num_classes, activation= 'softmax'))\n",
    "\n",
    "#         self.compile(optimizer= tf.keras.optimizers.Adam(0.0001),\n",
    "#                     loss=tf.keras.losses.SparseCategoricalCrossentropy(from_logits=False),\n",
    "#                     metrics=['accuracy'])\n",
    "\n",
    "\n",
    "        self.compile(optimizer= sgd,\n",
    "                    loss=tf.keras.losses.SparseCategoricalCrossentropy(from_logits=False),\n",
    "                    metrics=['accuracy'])"
   ]
  },
  {
   "cell_type": "code",
   "execution_count": null,
   "metadata": {},
   "outputs": [],
   "source": [
    "model = AlexNet((200, 200, 6), num_classes)\n",
    "model.summary()\n",
    "\n",
    "# start training\n",
    "history = model.fit(train1_images, train1_labels, epochs=10, \n",
    "                    validation_data=(val_images, val_labels))\n"
   ]
  },
  {
   "cell_type": "code",
   "execution_count": null,
   "metadata": {},
   "outputs": [],
   "source": []
  },
  {
   "cell_type": "code",
   "execution_count": null,
   "metadata": {},
   "outputs": [],
   "source": [
    "# some training parameters\n",
    "EPOCHS = 10\n",
    "image_height = 200\n",
    "image_width = 200\n",
    "train_dir = \"train\"\n",
    "valid_dir = \"validation\"\n",
    "model_dir = \"my_model.h5\"\n"
   ]
  },
  {
   "cell_type": "code",
   "execution_count": null,
   "metadata": {},
   "outputs": [],
   "source": [
    "\n",
    "\n"
   ]
  },
  {
   "cell_type": "code",
   "execution_count": null,
   "metadata": {},
   "outputs": [],
   "source": [
    "# make prediction\n",
    "predicted_label = model.predict_classes(test_images)"
   ]
  },
  {
   "cell_type": "code",
   "execution_count": null,
   "metadata": {},
   "outputs": [],
   "source": [
    "print(predicted_label)"
   ]
  },
  {
   "cell_type": "code",
   "execution_count": null,
   "metadata": {},
   "outputs": [],
   "source": []
  },
  {
   "cell_type": "markdown",
   "metadata": {},
   "source": [
    "##### Reason why accuracy doesn't further increase\n",
    "1. imbalance of trianing set \n",
    "2. learning rate too large "
   ]
  },
  {
   "cell_type": "code",
   "execution_count": null,
   "metadata": {},
   "outputs": [],
   "source": []
  },
  {
   "cell_type": "code",
   "execution_count": null,
   "metadata": {},
   "outputs": [],
   "source": []
  }
 ],
 "metadata": {
  "kernelspec": {
   "display_name": "Python 3",
   "language": "python",
   "name": "python3"
  },
  "language_info": {
   "codemirror_mode": {
    "name": "ipython",
    "version": 3
   },
   "file_extension": ".py",
   "mimetype": "text/x-python",
   "name": "python",
   "nbconvert_exporter": "python",
   "pygments_lexer": "ipython3",
   "version": "3.8.3"
  }
 },
 "nbformat": 4,
 "nbformat_minor": 4
}
